{
 "cells": [
  {
   "cell_type": "markdown",
   "metadata": {},
   "source": [
    "### Here we plot the cosine similarities as a function of the number of mutations maybe, with the normalisation using original SARS-cov2 sequence trinucleotide content and the average between the original and the mutated one."
   ]
  },
  {
   "cell_type": "code",
   "execution_count": 1,
   "metadata": {},
   "outputs": [],
   "source": [
    "# imports\n",
    "import json\n",
    "from collections import defaultdict\n",
    "\n",
    "import numpy as np\n",
    "import pandas as pd\n",
    "import matplotlib.pyplot as plt\n",
    "from scipy.spatial.distance import cosine\n",
    "from pathlib import Path  # to save the mutational table "
   ]
  },
  {
   "cell_type": "markdown",
   "metadata": {},
   "source": [
    "Starting with 100 mutations"
   ]
  },
  {
   "cell_type": "code",
   "execution_count": 2,
   "metadata": {},
   "outputs": [
    {
     "data": {
      "text/html": [
       "<div>\n",
       "<style scoped>\n",
       "    .dataframe tbody tr th:only-of-type {\n",
       "        vertical-align: middle;\n",
       "    }\n",
       "\n",
       "    .dataframe tbody tr th {\n",
       "        vertical-align: top;\n",
       "    }\n",
       "\n",
       "    .dataframe thead th {\n",
       "        text-align: right;\n",
       "    }\n",
       "</style>\n",
       "<table border=\"1\" class=\"dataframe\">\n",
       "  <thead>\n",
       "    <tr style=\"text-align: right;\">\n",
       "      <th></th>\n",
       "      <th>Condition</th>\n",
       "      <th>Cosine similarity</th>\n",
       "    </tr>\n",
       "  </thead>\n",
       "  <tbody>\n",
       "    <tr>\n",
       "      <th>0</th>\n",
       "      <td>once normed</td>\n",
       "      <td>0.905287</td>\n",
       "    </tr>\n",
       "    <tr>\n",
       "      <th>1</th>\n",
       "      <td>av once normed</td>\n",
       "      <td>0.904765</td>\n",
       "    </tr>\n",
       "    <tr>\n",
       "      <th>2</th>\n",
       "      <td>twice normed</td>\n",
       "      <td>0.923347</td>\n",
       "    </tr>\n",
       "    <tr>\n",
       "      <th>3</th>\n",
       "      <td>av twice normed</td>\n",
       "      <td>0.922653</td>\n",
       "    </tr>\n",
       "  </tbody>\n",
       "</table>\n",
       "</div>"
      ],
      "text/plain": [
       "         Condition  Cosine similarity\n",
       "0      once normed           0.905287\n",
       "1   av once normed           0.904765\n",
       "2     twice normed           0.923347\n",
       "3  av twice normed           0.922653"
      ]
     },
     "execution_count": 2,
     "metadata": {},
     "output_type": "execute_result"
    }
   ],
   "source": [
    "cosine_sim_100 = pd.read_table('../results/results/100_mut/cosine_sim_100.tsv')\n",
    "cosine_sim_100.head(10)"
   ]
  },
  {
   "cell_type": "code",
   "execution_count": 3,
   "metadata": {},
   "outputs": [
    {
     "data": {
      "text/html": [
       "<div>\n",
       "<style scoped>\n",
       "    .dataframe tbody tr th:only-of-type {\n",
       "        vertical-align: middle;\n",
       "    }\n",
       "\n",
       "    .dataframe tbody tr th {\n",
       "        vertical-align: top;\n",
       "    }\n",
       "\n",
       "    .dataframe thead th {\n",
       "        text-align: right;\n",
       "    }\n",
       "</style>\n",
       "<table border=\"1\" class=\"dataframe\">\n",
       "  <thead>\n",
       "    <tr style=\"text-align: right;\">\n",
       "      <th></th>\n",
       "      <th>Condition</th>\n",
       "      <th>Cosine similarity</th>\n",
       "    </tr>\n",
       "  </thead>\n",
       "  <tbody>\n",
       "    <tr>\n",
       "      <th>0</th>\n",
       "      <td>once normed</td>\n",
       "      <td>0.978105</td>\n",
       "    </tr>\n",
       "    <tr>\n",
       "      <th>1</th>\n",
       "      <td>av once normed</td>\n",
       "      <td>0.978409</td>\n",
       "    </tr>\n",
       "    <tr>\n",
       "      <th>2</th>\n",
       "      <td>twice normed</td>\n",
       "      <td>0.947489</td>\n",
       "    </tr>\n",
       "    <tr>\n",
       "      <th>3</th>\n",
       "      <td>av twice normed</td>\n",
       "      <td>0.945766</td>\n",
       "    </tr>\n",
       "  </tbody>\n",
       "</table>\n",
       "</div>"
      ],
      "text/plain": [
       "         Condition  Cosine similarity\n",
       "0      once normed           0.978105\n",
       "1   av once normed           0.978409\n",
       "2     twice normed           0.947489\n",
       "3  av twice normed           0.945766"
      ]
     },
     "execution_count": 3,
     "metadata": {},
     "output_type": "execute_result"
    }
   ],
   "source": [
    "# then 500 mutations\n",
    "cosine_sim_500 = pd.read_table('../results/results/500_mut/cosine_sim_500.tsv')\n",
    "cosine_sim_500.head(10)"
   ]
  },
  {
   "cell_type": "code",
   "execution_count": 4,
   "metadata": {},
   "outputs": [
    {
     "data": {
      "text/html": [
       "<div>\n",
       "<style scoped>\n",
       "    .dataframe tbody tr th:only-of-type {\n",
       "        vertical-align: middle;\n",
       "    }\n",
       "\n",
       "    .dataframe tbody tr th {\n",
       "        vertical-align: top;\n",
       "    }\n",
       "\n",
       "    .dataframe thead th {\n",
       "        text-align: right;\n",
       "    }\n",
       "</style>\n",
       "<table border=\"1\" class=\"dataframe\">\n",
       "  <thead>\n",
       "    <tr style=\"text-align: right;\">\n",
       "      <th></th>\n",
       "      <th>Condition</th>\n",
       "      <th>Cosine similarity</th>\n",
       "    </tr>\n",
       "  </thead>\n",
       "  <tbody>\n",
       "    <tr>\n",
       "      <th>0</th>\n",
       "      <td>once normed</td>\n",
       "      <td>0.990397</td>\n",
       "    </tr>\n",
       "    <tr>\n",
       "      <th>1</th>\n",
       "      <td>av once normed</td>\n",
       "      <td>0.990362</td>\n",
       "    </tr>\n",
       "    <tr>\n",
       "      <th>2</th>\n",
       "      <td>twice normed</td>\n",
       "      <td>0.954826</td>\n",
       "    </tr>\n",
       "    <tr>\n",
       "      <th>3</th>\n",
       "      <td>av twice normed</td>\n",
       "      <td>0.951987</td>\n",
       "    </tr>\n",
       "  </tbody>\n",
       "</table>\n",
       "</div>"
      ],
      "text/plain": [
       "         Condition  Cosine similarity\n",
       "0      once normed           0.990397\n",
       "1   av once normed           0.990362\n",
       "2     twice normed           0.954826\n",
       "3  av twice normed           0.951987"
      ]
     },
     "execution_count": 4,
     "metadata": {},
     "output_type": "execute_result"
    }
   ],
   "source": [
    "# then 1000 mutations\n",
    "cosine_sim_1000 = pd.read_table('../results/results/1000_mut/cosine_sim_1000.tsv')\n",
    "cosine_sim_1000.head(10)"
   ]
  },
  {
   "cell_type": "code",
   "execution_count": 5,
   "metadata": {},
   "outputs": [
    {
     "data": {
      "text/html": [
       "<div>\n",
       "<style scoped>\n",
       "    .dataframe tbody tr th:only-of-type {\n",
       "        vertical-align: middle;\n",
       "    }\n",
       "\n",
       "    .dataframe tbody tr th {\n",
       "        vertical-align: top;\n",
       "    }\n",
       "\n",
       "    .dataframe thead th {\n",
       "        text-align: right;\n",
       "    }\n",
       "</style>\n",
       "<table border=\"1\" class=\"dataframe\">\n",
       "  <thead>\n",
       "    <tr style=\"text-align: right;\">\n",
       "      <th></th>\n",
       "      <th>Condition</th>\n",
       "      <th>Cosine similarity</th>\n",
       "    </tr>\n",
       "  </thead>\n",
       "  <tbody>\n",
       "    <tr>\n",
       "      <th>0</th>\n",
       "      <td>once normed</td>\n",
       "      <td>0.995218</td>\n",
       "    </tr>\n",
       "    <tr>\n",
       "      <th>1</th>\n",
       "      <td>av once normed</td>\n",
       "      <td>0.997674</td>\n",
       "    </tr>\n",
       "    <tr>\n",
       "      <th>2</th>\n",
       "      <td>twice normed</td>\n",
       "      <td>0.969743</td>\n",
       "    </tr>\n",
       "    <tr>\n",
       "      <th>3</th>\n",
       "      <td>av twice normed</td>\n",
       "      <td>0.961639</td>\n",
       "    </tr>\n",
       "  </tbody>\n",
       "</table>\n",
       "</div>"
      ],
      "text/plain": [
       "         Condition  Cosine similarity\n",
       "0      once normed           0.995218\n",
       "1   av once normed           0.997674\n",
       "2     twice normed           0.969743\n",
       "3  av twice normed           0.961639"
      ]
     },
     "execution_count": 5,
     "metadata": {},
     "output_type": "execute_result"
    }
   ],
   "source": [
    "# and finally 5000 mutations\n",
    "cosine_sim_5000 = pd.read_table('../results/results/5000_mut/cosine_sim_5000.tsv')\n",
    "cosine_sim_5000.head(10)"
   ]
  },
  {
   "cell_type": "code",
   "execution_count": 6,
   "metadata": {},
   "outputs": [
    {
     "data": {
      "image/png": "[encoded data removed]",
      "text/plain": [
       "<Figure size 432x288 with 1 Axes>"
      ]
     },
     "metadata": {
      "needs_background": "light"
     },
     "output_type": "display_data"
    }
   ],
   "source": [
    "# Plot the not averaged ones through time \n",
    "\n",
    "not_av = [cosine_sim_100[cosine_sim_100.Condition == 'twice normed']['Cosine similarity'].values, cosine_sim_500[cosine_sim_500.Condition == 'twice normed']['Cosine similarity'].values, cosine_sim_1000[cosine_sim_1000.Condition == 'twice normed']['Cosine similarity'].values, cosine_sim_5000[cosine_sim_5000.Condition == 'twice normed']['Cosine similarity'].values]\n",
    "time = [100, 500, 1000, 5000]\n",
    "\n",
    "plt.plot(time, not_av, marker = 'o')\n",
    "plt.xlabel(\"Number of mutations\")\n",
    "plt.ylabel(\"Cosine similarity\")\n",
    "plt.title(\"NOT AVERAGED SARS-cov2 TRINUCLEOTIDE CONTENT\")\n",
    "plt.show()"
   ]
  },
  {
   "cell_type": "code",
   "execution_count": 7,
   "metadata": {},
   "outputs": [
    {
     "data": {
      "image/png": "[encoded data removed]",
      "text/plain": [
       "<Figure size 432x288 with 1 Axes>"
      ]
     },
     "metadata": {
      "needs_background": "light"
     },
     "output_type": "display_data"
    }
   ],
   "source": [
    "# Plot the averaged ones through time \n",
    "\n",
    "av = [cosine_sim_100[cosine_sim_100.Condition == 'av twice normed']['Cosine similarity'].values, cosine_sim_500[cosine_sim_500.Condition == 'av twice normed']['Cosine similarity'].values, cosine_sim_1000[cosine_sim_1000.Condition == 'av twice normed']['Cosine similarity'].values, cosine_sim_5000[cosine_sim_5000.Condition == 'av twice normed']['Cosine similarity'].values]\n",
    "time = [100, 500, 1000, 5000]\n",
    "\n",
    "plt.plot(time, av, marker = 'o')\n",
    "plt.xlabel(\"Number of mutations\")\n",
    "plt.ylabel(\"Cosine similarity\")\n",
    "plt.title(\"AVERAGED SARS-cov2 TRINUCLEOTIDE CONTENT\")\n",
    "plt.show()"
   ]
  },
  {
   "cell_type": "markdown",
   "metadata": {},
   "source": [
    "We can see that the averaged one is more stable through time, as the mutations accumulate. This makes sense since as mutations accumulate, the SARS-cov2 sequence diverges and so averaging the trinucleotide content helps."
   ]
  }
 ],
 "metadata": {
  "kernelspec": {
   "display_name": "Python 3",
   "language": "python",
   "name": "python3"
  },
  "language_info": {
   "codemirror_mode": {
    "name": "ipython",
    "version": 3
   },
   "file_extension": ".py",
   "mimetype": "text/x-python",
   "name": "python",
   "nbconvert_exporter": "python",
   "pygments_lexer": "ipython3",
   "version": "3.10.4"
  }
 },
 "nbformat": 4,
 "nbformat_minor": 4
}
